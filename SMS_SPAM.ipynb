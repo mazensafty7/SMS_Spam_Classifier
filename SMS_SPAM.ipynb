{
 "cells": [
  {
   "cell_type": "markdown",
   "id": "81122661",
   "metadata": {
    "papermill": {
     "duration": 0.008197,
     "end_time": "2024-10-05T09:26:04.114516",
     "exception": false,
     "start_time": "2024-10-05T09:26:04.106319",
     "status": "completed"
    },
    "tags": []
   },
   "source": [
    "# Project Goal \n",
    "\n",
    "Spam detection is one of the major applications of Machine Learning in the interwebs today. Pretty much all of the major email service providers have spam detection systems built in and automatically classify such mail as 'Junk Mail'. \n",
    "\n",
    "In this mission we will be using the Naive Bayes algorithm to create a model that can classify [dataset](https://archive.ics.uci.edu/ml/datasets/SMS+Spam+Collection) SMS messages as spam or not spam, based on the training we give to the model. It is important to have some level of intuition as to what a spammy text message might look like. Usually they have words like 'free', 'win', 'winner', 'cash', 'prize' and the like in them as these texts are designed to catch your eye and in some sense tempt you to open them. Also, spam messages tend to have words written in all capitals and also tend to use a lot of exclamation marks. To the recipient, it is usually pretty straightforward to identify a spam text and our objective here is to train a model to do that for us!\n",
    "\n",
    "Being able to identify spam messages is a binary classification problem as messages are classified as either 'Spam' or 'Not Spam' and nothing else. Also, this is a supervised learning problem, as we will be feeding a labelled dataset into the model, that it can learn from, to make future predictions. "
   ]
  },
  {
   "cell_type": "markdown",
   "id": "6f975b71",
   "metadata": {
    "papermill": {
     "duration": 0.007351,
     "end_time": "2024-10-05T09:26:04.129488",
     "exception": false,
     "start_time": "2024-10-05T09:26:04.122137",
     "status": "completed"
    },
    "tags": []
   },
   "source": [
    "# Introduction To The Naive Bayes Theorem\n",
    "\n",
    "Bayes theorem is one of the earliest probabilistic inference algorithms developed by Reverend Bayes and still performs extremely well for certain use cases. \n",
    "\n",
    "It's best to understand this theorem using an example. Let's say you are a member of the Secret Service and you have been deployed to protect the Democratic presidential nominee during one of his/her campaign speeches. Being a public event that is open to all, your job is not easy and you have to be on the constant lookout for threats. So one place to start is to put a certain threat-factor for each person. So based on the features of an individual, like the age, sex, and other smaller factors like is the person carrying a bag?, does the person look nervous? etc. you can make a judgement call as to if that person is viable threat. \n",
    "\n",
    "If an individual ticks all the boxes up to a level where it crosses a threshold of doubt in your mind, you can take action and remove that person from the vicinity. The Bayes theorem works in the same way as we are computing the probability of an event(a person being a threat) based on the probabilities of certain related events(age, sex, presence of bag or not, nervousness etc. of the person). \n",
    "\n",
    "One thing to consider is the independence of these features amongst each other. For example if a child looks nervous at the event then the likelihood of that person being a threat is not as much as say if it was a grown man who was nervous. To break this down a bit further, here there are two features we are considering, age AND nervousness. Say we look at these features individually, we could design a model that flags ALL persons that are nervous as potential threats. However, it is likely that we will have a lot of false positives as there is a strong chance that minors present at the event will be nervous. Hence by considering the age of a person along with the 'nervousness' feature we would definitely get a more accurate result as to who are potential threats and who aren't. \n",
    "\n",
    "This is the 'Naive' bit of the theorem where it considers each feature to be independant of each other which may not always be the case and hence that can affect the final judgement.\n",
    "\n",
    "In short, the Bayes theorem calculates the probability of a certain event happening(in our case, a message being  spam) based on the joint probabilistic distributions of certain other events(in our case, the appearance of certain words in a message). We will dive into the workings of the Bayes theorem later in the mission, but first, let us understand the data we are going to work with."
   ]
  },
  {
   "cell_type": "markdown",
   "id": "dbf897b0",
   "metadata": {
    "papermill": {
     "duration": 0.007486,
     "end_time": "2024-10-05T09:26:04.144503",
     "exception": false,
     "start_time": "2024-10-05T09:26:04.137017",
     "status": "completed"
    },
    "tags": []
   },
   "source": [
    "# Understanding our dataset \n",
    "\n",
    "\n",
    "We will be using a [dataset](https://archive.ics.uci.edu/ml/datasets/SMS+Spam+Collection) from the UCI Machine Learning \n",
    " ** Here's a preview of the data: ** \n",
    "\n",
    "The columns in the data set are currently not named and as you can see, there are 2 columns. \n",
    "\n",
    "The first column takes two values, 'ham' which signifies that the message is not spam, and 'spam' which signifies that the message is spam. \n",
    "\n",
    "The second column is the text content of the SMS message that is being classified."
   ]
  },
  {
   "cell_type": "code",
   "execution_count": 1,
   "id": "9903e6d5",
   "metadata": {
    "execution": {
     "iopub.execute_input": "2024-10-05T09:26:04.161532Z",
     "iopub.status.busy": "2024-10-05T09:26:04.161070Z",
     "iopub.status.idle": "2024-10-05T09:26:05.172908Z",
     "shell.execute_reply": "2024-10-05T09:26:05.171700Z"
    },
    "papermill": {
     "duration": 1.023451,
     "end_time": "2024-10-05T09:26:05.175679",
     "exception": false,
     "start_time": "2024-10-05T09:26:04.152228",
     "status": "completed"
    },
    "tags": []
   },
   "outputs": [
    {
     "data": {
      "text/html": [
       "<div>\n",
       "<style scoped>\n",
       "    .dataframe tbody tr th:only-of-type {\n",
       "        vertical-align: middle;\n",
       "    }\n",
       "\n",
       "    .dataframe tbody tr th {\n",
       "        vertical-align: top;\n",
       "    }\n",
       "\n",
       "    .dataframe thead th {\n",
       "        text-align: right;\n",
       "    }\n",
       "</style>\n",
       "<table border=\"1\" class=\"dataframe\">\n",
       "  <thead>\n",
       "    <tr style=\"text-align: right;\">\n",
       "      <th></th>\n",
       "      <th>label</th>\n",
       "      <th>sms_message</th>\n",
       "    </tr>\n",
       "  </thead>\n",
       "  <tbody>\n",
       "    <tr>\n",
       "      <th>0</th>\n",
       "      <td>ham</td>\n",
       "      <td>Go until jurong point, crazy.. Available only ...</td>\n",
       "    </tr>\n",
       "    <tr>\n",
       "      <th>1</th>\n",
       "      <td>ham</td>\n",
       "      <td>Ok lar... Joking wif u oni...</td>\n",
       "    </tr>\n",
       "    <tr>\n",
       "      <th>2</th>\n",
       "      <td>spam</td>\n",
       "      <td>Free entry in 2 a wkly comp to win FA Cup fina...</td>\n",
       "    </tr>\n",
       "    <tr>\n",
       "      <th>3</th>\n",
       "      <td>ham</td>\n",
       "      <td>U dun say so early hor... U c already then say...</td>\n",
       "    </tr>\n",
       "    <tr>\n",
       "      <th>4</th>\n",
       "      <td>ham</td>\n",
       "      <td>Nah I don't think he goes to usf, he lives aro...</td>\n",
       "    </tr>\n",
       "  </tbody>\n",
       "</table>\n",
       "</div>"
      ],
      "text/plain": [
       "  label                                        sms_message\n",
       "0   ham  Go until jurong point, crazy.. Available only ...\n",
       "1   ham                      Ok lar... Joking wif u oni...\n",
       "2  spam  Free entry in 2 a wkly comp to win FA Cup fina...\n",
       "3   ham  U dun say so early hor... U c already then say...\n",
       "4   ham  Nah I don't think he goes to usf, he lives aro..."
      ]
     },
     "execution_count": 1,
     "metadata": {},
     "output_type": "execute_result"
    }
   ],
   "source": [
    "import pandas as pd\n",
    "df = pd.read_csv('/kaggle/input/smsspamcollection-messages/SMSSpamCollection',\n",
    "                   sep='\\t', \n",
    "                   header=None, \n",
    "                   names=['label', 'sms_message'])\n",
    "df.head()"
   ]
  },
  {
   "cell_type": "markdown",
   "id": "0556c0b5",
   "metadata": {
    "papermill": {
     "duration": 0.007507,
     "end_time": "2024-10-05T09:26:05.191428",
     "exception": false,
     "start_time": "2024-10-05T09:26:05.183921",
     "status": "completed"
    },
    "tags": []
   },
   "source": [
    "# Data Preprocessing"
   ]
  },
  {
   "cell_type": "code",
   "execution_count": 2,
   "id": "8dd76638",
   "metadata": {
    "execution": {
     "iopub.execute_input": "2024-10-05T09:26:05.209948Z",
     "iopub.status.busy": "2024-10-05T09:26:05.209490Z",
     "iopub.status.idle": "2024-10-05T09:26:05.226754Z",
     "shell.execute_reply": "2024-10-05T09:26:05.225593Z"
    },
    "papermill": {
     "duration": 0.030231,
     "end_time": "2024-10-05T09:26:05.229476",
     "exception": false,
     "start_time": "2024-10-05T09:26:05.199245",
     "status": "completed"
    },
    "tags": []
   },
   "outputs": [
    {
     "name": "stdout",
     "output_type": "stream",
     "text": [
      "(5572, 2)\n"
     ]
    },
    {
     "data": {
      "text/html": [
       "<div>\n",
       "<style scoped>\n",
       "    .dataframe tbody tr th:only-of-type {\n",
       "        vertical-align: middle;\n",
       "    }\n",
       "\n",
       "    .dataframe tbody tr th {\n",
       "        vertical-align: top;\n",
       "    }\n",
       "\n",
       "    .dataframe thead th {\n",
       "        text-align: right;\n",
       "    }\n",
       "</style>\n",
       "<table border=\"1\" class=\"dataframe\">\n",
       "  <thead>\n",
       "    <tr style=\"text-align: right;\">\n",
       "      <th></th>\n",
       "      <th>label</th>\n",
       "      <th>sms_message</th>\n",
       "    </tr>\n",
       "  </thead>\n",
       "  <tbody>\n",
       "    <tr>\n",
       "      <th>0</th>\n",
       "      <td>0</td>\n",
       "      <td>Go until jurong point, crazy.. Available only ...</td>\n",
       "    </tr>\n",
       "    <tr>\n",
       "      <th>1</th>\n",
       "      <td>0</td>\n",
       "      <td>Ok lar... Joking wif u oni...</td>\n",
       "    </tr>\n",
       "    <tr>\n",
       "      <th>2</th>\n",
       "      <td>1</td>\n",
       "      <td>Free entry in 2 a wkly comp to win FA Cup fina...</td>\n",
       "    </tr>\n",
       "    <tr>\n",
       "      <th>3</th>\n",
       "      <td>0</td>\n",
       "      <td>U dun say so early hor... U c already then say...</td>\n",
       "    </tr>\n",
       "    <tr>\n",
       "      <th>4</th>\n",
       "      <td>0</td>\n",
       "      <td>Nah I don't think he goes to usf, he lives aro...</td>\n",
       "    </tr>\n",
       "  </tbody>\n",
       "</table>\n",
       "</div>"
      ],
      "text/plain": [
       "   label                                        sms_message\n",
       "0      0  Go until jurong point, crazy.. Available only ...\n",
       "1      0                      Ok lar... Joking wif u oni...\n",
       "2      1  Free entry in 2 a wkly comp to win FA Cup fina...\n",
       "3      0  U dun say so early hor... U c already then say...\n",
       "4      0  Nah I don't think he goes to usf, he lives aro..."
      ]
     },
     "execution_count": 2,
     "metadata": {},
     "output_type": "execute_result"
    }
   ],
   "source": [
    "df['label'] = df[\"label\"].map({'ham':0, 'spam':1})\n",
    "print(df.shape)\n",
    "df.head()"
   ]
  },
  {
   "cell_type": "code",
   "execution_count": 3,
   "id": "e11f2107",
   "metadata": {
    "execution": {
     "iopub.execute_input": "2024-10-05T09:26:05.247508Z",
     "iopub.status.busy": "2024-10-05T09:26:05.247019Z",
     "iopub.status.idle": "2024-10-05T09:26:05.272418Z",
     "shell.execute_reply": "2024-10-05T09:26:05.270988Z"
    },
    "papermill": {
     "duration": 0.037646,
     "end_time": "2024-10-05T09:26:05.275189",
     "exception": false,
     "start_time": "2024-10-05T09:26:05.237543",
     "status": "completed"
    },
    "tags": []
   },
   "outputs": [
    {
     "name": "stdout",
     "output_type": "stream",
     "text": [
      "<class 'pandas.core.frame.DataFrame'>\n",
      "RangeIndex: 5572 entries, 0 to 5571\n",
      "Data columns (total 2 columns):\n",
      " #   Column       Non-Null Count  Dtype \n",
      "---  ------       --------------  ----- \n",
      " 0   label        5572 non-null   int64 \n",
      " 1   sms_message  5572 non-null   object\n",
      "dtypes: int64(1), object(1)\n",
      "memory usage: 87.2+ KB\n"
     ]
    }
   ],
   "source": [
    "df.info()"
   ]
  },
  {
   "cell_type": "markdown",
   "id": "a5209fb9",
   "metadata": {
    "papermill": {
     "duration": 0.008208,
     "end_time": "2024-10-05T09:26:05.292113",
     "exception": false,
     "start_time": "2024-10-05T09:26:05.283905",
     "status": "completed"
    },
    "tags": []
   },
   "source": [
    "# Training and Testing sets"
   ]
  },
  {
   "cell_type": "code",
   "execution_count": 4,
   "id": "158afc89",
   "metadata": {
    "execution": {
     "iopub.execute_input": "2024-10-05T09:26:05.310651Z",
     "iopub.status.busy": "2024-10-05T09:26:05.310199Z",
     "iopub.status.idle": "2024-10-05T09:26:06.801883Z",
     "shell.execute_reply": "2024-10-05T09:26:06.800846Z"
    },
    "papermill": {
     "duration": 1.50411,
     "end_time": "2024-10-05T09:26:06.804521",
     "exception": false,
     "start_time": "2024-10-05T09:26:05.300411",
     "status": "completed"
    },
    "tags": []
   },
   "outputs": [
    {
     "name": "stdout",
     "output_type": "stream",
     "text": [
      "Number of rows in the total set: 5572\n",
      "Number of rows in the training set: 4179\n",
      "Number of rows in the test set: 1393\n"
     ]
    }
   ],
   "source": [
    "from sklearn.model_selection import train_test_split\n",
    "\n",
    "X_train, X_test, y_train, y_test = train_test_split(df[\"sms_message\"] , df[\"label\"] , random_state=1)\n",
    "\n",
    "print('Number of rows in the total set: {}'.format(df.shape[0]))\n",
    "print('Number of rows in the training set: {}'.format(X_train.shape[0]))\n",
    "print('Number of rows in the test set: {}'.format(X_test.shape[0]))"
   ]
  },
  {
   "cell_type": "markdown",
   "id": "689cd0e8",
   "metadata": {
    "papermill": {
     "duration": 0.008038,
     "end_time": "2024-10-05T09:26:06.821225",
     "exception": false,
     "start_time": "2024-10-05T09:26:06.813187",
     "status": "completed"
    },
    "tags": []
   },
   "source": [
    "## Bag of Words Processing"
   ]
  },
  {
   "cell_type": "code",
   "execution_count": 5,
   "id": "36b132f5",
   "metadata": {
    "execution": {
     "iopub.execute_input": "2024-10-05T09:26:06.839683Z",
     "iopub.status.busy": "2024-10-05T09:26:06.839102Z",
     "iopub.status.idle": "2024-10-05T09:26:06.856257Z",
     "shell.execute_reply": "2024-10-05T09:26:06.855115Z"
    },
    "papermill": {
     "duration": 0.029388,
     "end_time": "2024-10-05T09:26:06.858958",
     "exception": false,
     "start_time": "2024-10-05T09:26:06.829570",
     "status": "completed"
    },
    "tags": []
   },
   "outputs": [],
   "source": [
    "from sklearn.feature_extraction.text import CountVectorizer\n",
    "count = CountVectorizer()"
   ]
  },
  {
   "cell_type": "code",
   "execution_count": 6,
   "id": "300952ea",
   "metadata": {
    "execution": {
     "iopub.execute_input": "2024-10-05T09:26:06.877593Z",
     "iopub.status.busy": "2024-10-05T09:26:06.877177Z",
     "iopub.status.idle": "2024-10-05T09:26:07.258615Z",
     "shell.execute_reply": "2024-10-05T09:26:07.257359Z"
    },
    "papermill": {
     "duration": 0.393947,
     "end_time": "2024-10-05T09:26:07.261400",
     "exception": false,
     "start_time": "2024-10-05T09:26:06.867453",
     "status": "completed"
    },
    "tags": []
   },
   "outputs": [],
   "source": [
    "X_train = count.fit_transform(X_train).toarray()\n",
    "X_test = count.transform(X_test).toarray()"
   ]
  },
  {
   "cell_type": "markdown",
   "id": "357e215b",
   "metadata": {
    "papermill": {
     "duration": 0.008244,
     "end_time": "2024-10-05T09:26:07.278670",
     "exception": false,
     "start_time": "2024-10-05T09:26:07.270426",
     "status": "completed"
    },
    "tags": []
   },
   "source": [
    "# Naive Bayes Implementation Using Scikit-Learn\n"
   ]
  },
  {
   "cell_type": "code",
   "execution_count": 7,
   "id": "75527deb",
   "metadata": {
    "execution": {
     "iopub.execute_input": "2024-10-05T09:26:07.297441Z",
     "iopub.status.busy": "2024-10-05T09:26:07.296995Z",
     "iopub.status.idle": "2024-10-05T09:26:08.081321Z",
     "shell.execute_reply": "2024-10-05T09:26:08.080181Z"
    },
    "papermill": {
     "duration": 0.796921,
     "end_time": "2024-10-05T09:26:08.083989",
     "exception": false,
     "start_time": "2024-10-05T09:26:07.287068",
     "status": "completed"
    },
    "tags": []
   },
   "outputs": [
    {
     "data": {
      "text/html": [
       "<style>#sk-container-id-1 {color: black;background-color: white;}#sk-container-id-1 pre{padding: 0;}#sk-container-id-1 div.sk-toggleable {background-color: white;}#sk-container-id-1 label.sk-toggleable__label {cursor: pointer;display: block;width: 100%;margin-bottom: 0;padding: 0.3em;box-sizing: border-box;text-align: center;}#sk-container-id-1 label.sk-toggleable__label-arrow:before {content: \"▸\";float: left;margin-right: 0.25em;color: #696969;}#sk-container-id-1 label.sk-toggleable__label-arrow:hover:before {color: black;}#sk-container-id-1 div.sk-estimator:hover label.sk-toggleable__label-arrow:before {color: black;}#sk-container-id-1 div.sk-toggleable__content {max-height: 0;max-width: 0;overflow: hidden;text-align: left;background-color: #f0f8ff;}#sk-container-id-1 div.sk-toggleable__content pre {margin: 0.2em;color: black;border-radius: 0.25em;background-color: #f0f8ff;}#sk-container-id-1 input.sk-toggleable__control:checked~div.sk-toggleable__content {max-height: 200px;max-width: 100%;overflow: auto;}#sk-container-id-1 input.sk-toggleable__control:checked~label.sk-toggleable__label-arrow:before {content: \"▾\";}#sk-container-id-1 div.sk-estimator input.sk-toggleable__control:checked~label.sk-toggleable__label {background-color: #d4ebff;}#sk-container-id-1 div.sk-label input.sk-toggleable__control:checked~label.sk-toggleable__label {background-color: #d4ebff;}#sk-container-id-1 input.sk-hidden--visually {border: 0;clip: rect(1px 1px 1px 1px);clip: rect(1px, 1px, 1px, 1px);height: 1px;margin: -1px;overflow: hidden;padding: 0;position: absolute;width: 1px;}#sk-container-id-1 div.sk-estimator {font-family: monospace;background-color: #f0f8ff;border: 1px dotted black;border-radius: 0.25em;box-sizing: border-box;margin-bottom: 0.5em;}#sk-container-id-1 div.sk-estimator:hover {background-color: #d4ebff;}#sk-container-id-1 div.sk-parallel-item::after {content: \"\";width: 100%;border-bottom: 1px solid gray;flex-grow: 1;}#sk-container-id-1 div.sk-label:hover label.sk-toggleable__label {background-color: #d4ebff;}#sk-container-id-1 div.sk-serial::before {content: \"\";position: absolute;border-left: 1px solid gray;box-sizing: border-box;top: 0;bottom: 0;left: 50%;z-index: 0;}#sk-container-id-1 div.sk-serial {display: flex;flex-direction: column;align-items: center;background-color: white;padding-right: 0.2em;padding-left: 0.2em;position: relative;}#sk-container-id-1 div.sk-item {position: relative;z-index: 1;}#sk-container-id-1 div.sk-parallel {display: flex;align-items: stretch;justify-content: center;background-color: white;position: relative;}#sk-container-id-1 div.sk-item::before, #sk-container-id-1 div.sk-parallel-item::before {content: \"\";position: absolute;border-left: 1px solid gray;box-sizing: border-box;top: 0;bottom: 0;left: 50%;z-index: -1;}#sk-container-id-1 div.sk-parallel-item {display: flex;flex-direction: column;z-index: 1;position: relative;background-color: white;}#sk-container-id-1 div.sk-parallel-item:first-child::after {align-self: flex-end;width: 50%;}#sk-container-id-1 div.sk-parallel-item:last-child::after {align-self: flex-start;width: 50%;}#sk-container-id-1 div.sk-parallel-item:only-child::after {width: 0;}#sk-container-id-1 div.sk-dashed-wrapped {border: 1px dashed gray;margin: 0 0.4em 0.5em 0.4em;box-sizing: border-box;padding-bottom: 0.4em;background-color: white;}#sk-container-id-1 div.sk-label label {font-family: monospace;font-weight: bold;display: inline-block;line-height: 1.2em;}#sk-container-id-1 div.sk-label-container {text-align: center;}#sk-container-id-1 div.sk-container {/* jupyter's `normalize.less` sets `[hidden] { display: none; }` but bootstrap.min.css set `[hidden] { display: none !important; }` so we also need the `!important` here to be able to override the default hidden behavior on the sphinx rendered scikit-learn.org. See: https://github.com/scikit-learn/scikit-learn/issues/21755 */display: inline-block !important;position: relative;}#sk-container-id-1 div.sk-text-repr-fallback {display: none;}</style><div id=\"sk-container-id-1\" class=\"sk-top-container\"><div class=\"sk-text-repr-fallback\"><pre>MultinomialNB()</pre><b>In a Jupyter environment, please rerun this cell to show the HTML representation or trust the notebook. <br />On GitHub, the HTML representation is unable to render, please try loading this page with nbviewer.org.</b></div><div class=\"sk-container\" hidden><div class=\"sk-item\"><div class=\"sk-estimator sk-toggleable\"><input class=\"sk-toggleable__control sk-hidden--visually\" id=\"sk-estimator-id-1\" type=\"checkbox\" checked><label for=\"sk-estimator-id-1\" class=\"sk-toggleable__label sk-toggleable__label-arrow\">MultinomialNB</label><div class=\"sk-toggleable__content\"><pre>MultinomialNB()</pre></div></div></div></div></div>"
      ],
      "text/plain": [
       "MultinomialNB()"
      ]
     },
     "execution_count": 7,
     "metadata": {},
     "output_type": "execute_result"
    }
   ],
   "source": [
    "from sklearn.naive_bayes import MultinomialNB\n",
    "naive_bayes = MultinomialNB()\n",
    "naive_bayes.fit(X_train, y_train)"
   ]
  },
  {
   "cell_type": "code",
   "execution_count": 8,
   "id": "513c9691",
   "metadata": {
    "execution": {
     "iopub.execute_input": "2024-10-05T09:26:08.103233Z",
     "iopub.status.busy": "2024-10-05T09:26:08.102775Z",
     "iopub.status.idle": "2024-10-05T09:26:08.174908Z",
     "shell.execute_reply": "2024-10-05T09:26:08.172665Z"
    },
    "papermill": {
     "duration": 0.086254,
     "end_time": "2024-10-05T09:26:08.179014",
     "exception": false,
     "start_time": "2024-10-05T09:26:08.092760",
     "status": "completed"
    },
    "tags": []
   },
   "outputs": [],
   "source": [
    "predictions = naive_bayes.predict(X_test)"
   ]
  },
  {
   "cell_type": "markdown",
   "id": "e5d89f02",
   "metadata": {
    "papermill": {
     "duration": 0.017237,
     "end_time": "2024-10-05T09:26:08.214383",
     "exception": false,
     "start_time": "2024-10-05T09:26:08.197146",
     "status": "completed"
    },
    "tags": []
   },
   "source": [
    "# Evaluating Our Model "
   ]
  },
  {
   "cell_type": "code",
   "execution_count": 9,
   "id": "69e79627",
   "metadata": {
    "execution": {
     "iopub.execute_input": "2024-10-05T09:26:08.252344Z",
     "iopub.status.busy": "2024-10-05T09:26:08.251631Z",
     "iopub.status.idle": "2024-10-05T09:26:08.281632Z",
     "shell.execute_reply": "2024-10-05T09:26:08.280489Z"
    },
    "papermill": {
     "duration": 0.053505,
     "end_time": "2024-10-05T09:26:08.285578",
     "exception": false,
     "start_time": "2024-10-05T09:26:08.232073",
     "status": "completed"
    },
    "tags": []
   },
   "outputs": [
    {
     "name": "stdout",
     "output_type": "stream",
     "text": [
      "Accuracy score:  0.9885139985642498\n",
      "Precision score:  0.9720670391061452\n",
      "Recall score:  0.9405405405405406\n",
      "F1 score:  0.9560439560439562\n"
     ]
    }
   ],
   "source": [
    "from sklearn.metrics import accuracy_score, precision_score, recall_score, f1_score\n",
    "\n",
    "print('Accuracy score: ', format(accuracy_score(y_test, predictions)))\n",
    "print('Precision score: ', format(precision_score(y_test, predictions)))\n",
    "print('Recall score: ', format(recall_score(y_test, predictions)))\n",
    "print('F1 score: ', format(f1_score(y_test, predictions)))"
   ]
  },
  {
   "cell_type": "markdown",
   "id": "a20d14ba",
   "metadata": {
    "papermill": {
     "duration": 0.0087,
     "end_time": "2024-10-05T09:26:08.305767",
     "exception": false,
     "start_time": "2024-10-05T09:26:08.297067",
     "status": "completed"
    },
    "tags": []
   },
   "source": [
    "### Using The Model"
   ]
  },
  {
   "cell_type": "code",
   "execution_count": 10,
   "id": "5e0511fa",
   "metadata": {
    "execution": {
     "iopub.execute_input": "2024-10-05T09:26:08.324838Z",
     "iopub.status.busy": "2024-10-05T09:26:08.324402Z",
     "iopub.status.idle": "2024-10-05T09:26:08.329709Z",
     "shell.execute_reply": "2024-10-05T09:26:08.328545Z"
    },
    "papermill": {
     "duration": 0.017944,
     "end_time": "2024-10-05T09:26:08.332395",
     "exception": false,
     "start_time": "2024-10-05T09:26:08.314451",
     "status": "completed"
    },
    "tags": []
   },
   "outputs": [],
   "source": [
    "test1=[\"hello i'am mazen  my team won the wrold cup  \"]#ham"
   ]
  },
  {
   "cell_type": "code",
   "execution_count": 11,
   "id": "710aa94b",
   "metadata": {
    "execution": {
     "iopub.execute_input": "2024-10-05T09:26:08.352210Z",
     "iopub.status.busy": "2024-10-05T09:26:08.351728Z",
     "iopub.status.idle": "2024-10-05T09:26:08.357034Z",
     "shell.execute_reply": "2024-10-05T09:26:08.355981Z"
    },
    "papermill": {
     "duration": 0.017803,
     "end_time": "2024-10-05T09:26:08.359303",
     "exception": false,
     "start_time": "2024-10-05T09:26:08.341500",
     "status": "completed"
    },
    "tags": []
   },
   "outputs": [],
   "source": [
    "test1=[\"You have won a £100,000 Prize \"]#spam"
   ]
  },
  {
   "cell_type": "code",
   "execution_count": 12,
   "id": "861de8c5",
   "metadata": {
    "execution": {
     "iopub.execute_input": "2024-10-05T09:26:08.378671Z",
     "iopub.status.busy": "2024-10-05T09:26:08.378254Z",
     "iopub.status.idle": "2024-10-05T09:26:08.383348Z",
     "shell.execute_reply": "2024-10-05T09:26:08.382083Z"
    },
    "papermill": {
     "duration": 0.017572,
     "end_time": "2024-10-05T09:26:08.385792",
     "exception": false,
     "start_time": "2024-10-05T09:26:08.368220",
     "status": "completed"
    },
    "tags": []
   },
   "outputs": [],
   "source": [
    "test1=[\"congrat ! you won 100 $ from this site\"]"
   ]
  },
  {
   "cell_type": "code",
   "execution_count": 13,
   "id": "d05a15be",
   "metadata": {
    "execution": {
     "iopub.execute_input": "2024-10-05T09:26:08.405454Z",
     "iopub.status.busy": "2024-10-05T09:26:08.404738Z",
     "iopub.status.idle": "2024-10-05T09:26:08.410377Z",
     "shell.execute_reply": "2024-10-05T09:26:08.409215Z"
    },
    "papermill": {
     "duration": 0.018043,
     "end_time": "2024-10-05T09:26:08.412678",
     "exception": false,
     "start_time": "2024-10-05T09:26:08.394635",
     "status": "completed"
    },
    "tags": []
   },
   "outputs": [],
   "source": [
    "test1=[\"how are you ? can i call you tomrorw\"]"
   ]
  },
  {
   "cell_type": "code",
   "execution_count": 14,
   "id": "d3e44234",
   "metadata": {
    "execution": {
     "iopub.execute_input": "2024-10-05T09:26:08.432084Z",
     "iopub.status.busy": "2024-10-05T09:26:08.431621Z",
     "iopub.status.idle": "2024-10-05T09:26:08.437133Z",
     "shell.execute_reply": "2024-10-05T09:26:08.435985Z"
    },
    "papermill": {
     "duration": 0.018044,
     "end_time": "2024-10-05T09:26:08.439498",
     "exception": false,
     "start_time": "2024-10-05T09:26:08.421454",
     "status": "completed"
    },
    "tags": []
   },
   "outputs": [],
   "source": [
    "test2=count.transform(test1).toarray()"
   ]
  },
  {
   "cell_type": "code",
   "execution_count": 15,
   "id": "c0c9c987",
   "metadata": {
    "execution": {
     "iopub.execute_input": "2024-10-05T09:26:08.459649Z",
     "iopub.status.busy": "2024-10-05T09:26:08.458541Z",
     "iopub.status.idle": "2024-10-05T09:26:08.467964Z",
     "shell.execute_reply": "2024-10-05T09:26:08.466819Z"
    },
    "papermill": {
     "duration": 0.02213,
     "end_time": "2024-10-05T09:26:08.470458",
     "exception": false,
     "start_time": "2024-10-05T09:26:08.448328",
     "status": "completed"
    },
    "tags": []
   },
   "outputs": [
    {
     "data": {
      "text/plain": [
       "array([0])"
      ]
     },
     "execution_count": 15,
     "metadata": {},
     "output_type": "execute_result"
    }
   ],
   "source": [
    "naive_bayes.predict(test2)"
   ]
  }
 ],
 "metadata": {
  "kaggle": {
   "accelerator": "none",
   "dataSources": [
    {
     "datasetId": 1762854,
     "sourceId": 2878018,
     "sourceType": "datasetVersion"
    }
   ],
   "dockerImageVersionId": 30786,
   "isGpuEnabled": false,
   "isInternetEnabled": true,
   "language": "python",
   "sourceType": "notebook"
  },
  "kernelspec": {
   "display_name": "Python 3",
   "language": "python",
   "name": "python3"
  },
  "language_info": {
   "codemirror_mode": {
    "name": "ipython",
    "version": 3
   },
   "file_extension": ".py",
   "mimetype": "text/x-python",
   "name": "python",
   "nbconvert_exporter": "python",
   "pygments_lexer": "ipython3",
   "version": "3.10.14"
  },
  "papermill": {
   "default_parameters": {},
   "duration": 8.1796,
   "end_time": "2024-10-05T09:26:09.100394",
   "environment_variables": {},
   "exception": null,
   "input_path": "__notebook__.ipynb",
   "output_path": "__notebook__.ipynb",
   "parameters": {},
   "start_time": "2024-10-05T09:26:00.920794",
   "version": "2.6.0"
  }
 },
 "nbformat": 4,
 "nbformat_minor": 5
}
